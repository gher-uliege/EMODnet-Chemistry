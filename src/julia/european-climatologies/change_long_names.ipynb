{
 "cells": [
  {
   "cell_type": "markdown",
   "id": "ddb9e3ee-483e-4025-8f97-69d8da1ed3e6",
   "metadata": {},
   "source": [
    "# Change long names\n",
    "This notebook is designed to modify the `long_name` attribute of the variables, using the `altLabel` from the P35 Vocabulary.\n",
    "In addition the `long_name` is modified so that the variable name appears first.\n",
    "\n",
    "## Examples\n",
    "```bash\n",
    "Water body dissolved inorganic nitrogen -> Inorganic nitrogen_dissolved \n",
    "Deepest depth for Water body dissolved oxygen concentration → Oxygen deepest depth\n",
    "```\n",
    "\n",
    "## Input\n",
    "The notebook will loop over the netCDF files located inside the directory `datadir`."
   ]
  },
  {
   "cell_type": "code",
   "execution_count": 1,
   "id": "7922d235-91ca-4996-bd11-2ca7ebfcb77b",
   "metadata": {},
   "outputs": [],
   "source": [
    "using NCDatasets\n",
    "using Glob\n",
    "using DIVAnd"
   ]
  },
  {
   "cell_type": "markdown",
   "id": "ea613c1a-9d66-4699-8816-548b3ec2a250",
   "metadata": {},
   "source": [
    "## Generate list of files"
   ]
  },
  {
   "cell_type": "code",
   "execution_count": 71,
   "id": "2dfec322-bff1-45e4-93a5-173b69e67ff4",
   "metadata": {},
   "outputs": [
    {
     "data": {
      "text/plain": [
       "5-element Vector{String}:\n",
       " \"/home/ctroupin/data/EMODnet-Che\"\u001b[93m\u001b[1m ⋯ 73 bytes ⋯ \u001b[22m\u001b[39m\"ter_body_chlorophyll-a.4Danl.nc\"\n",
       " \"/home/ctroupin/data/EMODnet-Che\"\u001b[93m\u001b[1m ⋯ 88 bytes ⋯ \u001b[22m\u001b[39m\"ved_inorganic_nitrogen.4Danl.nc\"\n",
       " \"/home/ctroupin/data/EMODnet-Che\"\u001b[93m\u001b[1m ⋯ 90 bytes ⋯ \u001b[22m\u001b[39m\"d_oxygen_concentration.4Danl.nc\"\n",
       " \"/home/ctroupin/data/EMODnet-Che\"\u001b[93m\u001b[1m ⋯ 69 bytes ⋯ \u001b[22m\u001b[39m\"a/Water_body_phosphate.4Danl.nc\"\n",
       " \"/home/ctroupin/data/EMODnet-Che\"\u001b[93m\u001b[1m ⋯ 68 bytes ⋯ \u001b[22m\u001b[39m\"ea/Water_body_silicate.4Danl.nc\""
      ]
     },
     "execution_count": 71,
     "metadata": {},
     "output_type": "execute_result"
    }
   ],
   "source": [
    "datadir = \"/home/ctroupin/data/EMODnet-Chemistry/Eutrophication2024/Results/ogs04/All_European_Seas-water_body/\"\n",
    "datadir = \"/home/ctroupin/data/EMODnet-Chemistry/Eutrophication2024/Results/Coastal_areas-water_body/Baltic_Sea_-_Gulf_of_Riga/\"\n",
    "datadir = \"/home/ctroupin/data/EMODnet-Chemistry/Eutrophication2024/Results/By_sea_regions-water_body/Baltic_Sea/\"\n",
    "datafilelist = glob(\"*nc\", datadir)"
   ]
  },
  {
   "cell_type": "code",
   "execution_count": 72,
   "id": "32fc38f7-e3e2-406e-bcb2-a14a829d93d1",
   "metadata": {},
   "outputs": [
    {
     "name": "stderr",
     "output_type": "stream",
     "text": [
      "\u001b[36m\u001b[1m[ \u001b[22m\u001b[39m\u001b[36m\u001b[1mInfo: \u001b[22m\u001b[39mWorking on file /home/ctroupin/data/EMODnet-Chemistry/Eutrophication2024/Results/By_sea_regions-water_body/Baltic_Sea/Water_body_chlorophyll-a.4Danl.nc\n",
      "\u001b[36m\u001b[1m[ \u001b[22m\u001b[39m\u001b[36m\u001b[1mInfo: \u001b[22m\u001b[39mMain variable: Water body chlorophyll-a, chlorophyll-a\n",
      "\u001b[36m\u001b[1m[ \u001b[22m\u001b[39m\u001b[36m\u001b[1mInfo: \u001b[22m\u001b[39mSDN:P35::EPC00105\n",
      "\u001b[36m\u001b[1m[ \u001b[22m\u001b[39m\u001b[36m\u001b[1mInfo: \u001b[22m\u001b[39mThe new label is Chlorophyll-a_particulate\n",
      "\u001b[36m\u001b[1m[ \u001b[22m\u001b[39m\u001b[36m\u001b[1mInfo: \u001b[22m\u001b[39m\n",
      "\u001b[36m\u001b[1m[ \u001b[22m\u001b[39m\u001b[36m\u001b[1mInfo: \u001b[22m\u001b[39mWater body chlorophyll-a → Chlorophyll-a_particulate \n",
      "\u001b[36m\u001b[1m[ \u001b[22m\u001b[39m\u001b[36m\u001b[1mInfo: \u001b[22m\u001b[39mWater body chlorophyll-a masked using relative error threshold 0.3 → Chlorophyll-a_particulate masked using relative error threshold 0.3\n",
      "\u001b[36m\u001b[1m[ \u001b[22m\u001b[39m\u001b[36m\u001b[1mInfo: \u001b[22m\u001b[39mWater body chlorophyll-a masked using relative error threshold 0.5 → Chlorophyll-a_particulate masked using relative error threshold 0.5\n",
      "\u001b[36m\u001b[1m[ \u001b[22m\u001b[39m\u001b[36m\u001b[1mInfo: \u001b[22m\u001b[39mRelative error of Water body chlorophyll-a → Chlorophyll-a_particulate relative error\n",
      "\u001b[36m\u001b[1m[ \u001b[22m\u001b[39m\u001b[36m\u001b[1mInfo: \u001b[22m\u001b[39mDeepest values of Water body chlorophyll-a → Chlorophyll-a_particulate deepest values\n",
      "\u001b[36m\u001b[1m[ \u001b[22m\u001b[39m\u001b[36m\u001b[1mInfo: \u001b[22m\u001b[39mDeepest values of Water body chlorophyll-a masked using relative error threshold 0.3 → Chlorophyll-a_particulate deepest values masked using relative error threshold 0.3\n",
      "\u001b[36m\u001b[1m[ \u001b[22m\u001b[39m\u001b[36m\u001b[1mInfo: \u001b[22m\u001b[39mDeepest values of Water body chlorophyll-a masked using relative error threshold 0.5 → Chlorophyll-a_particulate deepest values masked using relative error threshold 0.5\n",
      "\u001b[36m\u001b[1m[ \u001b[22m\u001b[39m\u001b[36m\u001b[1mInfo: \u001b[22m\u001b[39mDeepest depth for Water body chlorophyll-a → Chlorophyll-a_particulate deepest depth\n",
      "\u001b[36m\u001b[1m[ \u001b[22m\u001b[39m\u001b[36m\u001b[1mInfo: \u001b[22m\u001b[39mWorking on file /home/ctroupin/data/EMODnet-Chemistry/Eutrophication2024/Results/By_sea_regions-water_body/Baltic_Sea/Water_body_dissolved_inorganic_nitrogen.4Danl.nc\n",
      "\u001b[36m\u001b[1m[ \u001b[22m\u001b[39m\u001b[36m\u001b[1mInfo: \u001b[22m\u001b[39mMain variable: Water body dissolved inorganic nitrogen, dissolved inorganic nitrogen\n",
      "\u001b[36m\u001b[1m[ \u001b[22m\u001b[39m\u001b[36m\u001b[1mInfo: \u001b[22m\u001b[39mSDN:P35::EPC00198\n",
      "\u001b[36m\u001b[1m[ \u001b[22m\u001b[39m\u001b[36m\u001b[1mInfo: \u001b[22m\u001b[39mThe new label is Inorganic nitrogen_dissolved\n",
      "\u001b[36m\u001b[1m[ \u001b[22m\u001b[39m\u001b[36m\u001b[1mInfo: \u001b[22m\u001b[39m\n",
      "\u001b[36m\u001b[1m[ \u001b[22m\u001b[39m\u001b[36m\u001b[1mInfo: \u001b[22m\u001b[39mWater body dissolved inorganic nitrogen → Inorganic nitrogen_dissolved \n",
      "\u001b[36m\u001b[1m[ \u001b[22m\u001b[39m\u001b[36m\u001b[1mInfo: \u001b[22m\u001b[39mWater body dissolved inorganic nitrogen masked using relative error threshold 0.3 → Inorganic nitrogen_dissolved masked using relative error threshold 0.3\n",
      "\u001b[36m\u001b[1m[ \u001b[22m\u001b[39m\u001b[36m\u001b[1mInfo: \u001b[22m\u001b[39mWater body dissolved inorganic nitrogen masked using relative error threshold 0.5 → Inorganic nitrogen_dissolved masked using relative error threshold 0.5\n",
      "\u001b[36m\u001b[1m[ \u001b[22m\u001b[39m\u001b[36m\u001b[1mInfo: \u001b[22m\u001b[39mRelative error of Water body dissolved inorganic nitrogen → Inorganic nitrogen_dissolved relative error\n",
      "\u001b[36m\u001b[1m[ \u001b[22m\u001b[39m\u001b[36m\u001b[1mInfo: \u001b[22m\u001b[39mDeepest values of Water body dissolved inorganic nitrogen → Inorganic nitrogen_dissolved deepest values\n",
      "\u001b[36m\u001b[1m[ \u001b[22m\u001b[39m\u001b[36m\u001b[1mInfo: \u001b[22m\u001b[39mDeepest values of Water body dissolved inorganic nitrogen masked using relative error threshold 0.3 → Inorganic nitrogen_dissolved deepest values masked using relative error threshold 0.3\n",
      "\u001b[36m\u001b[1m[ \u001b[22m\u001b[39m\u001b[36m\u001b[1mInfo: \u001b[22m\u001b[39mDeepest values of Water body dissolved inorganic nitrogen masked using relative error threshold 0.5 → Inorganic nitrogen_dissolved deepest values masked using relative error threshold 0.5\n",
      "\u001b[36m\u001b[1m[ \u001b[22m\u001b[39m\u001b[36m\u001b[1mInfo: \u001b[22m\u001b[39mDeepest depth for Water body dissolved inorganic nitrogen → Inorganic nitrogen_dissolved deepest depth\n",
      "\u001b[36m\u001b[1m[ \u001b[22m\u001b[39m\u001b[36m\u001b[1mInfo: \u001b[22m\u001b[39mWorking on file /home/ctroupin/data/EMODnet-Chemistry/Eutrophication2024/Results/By_sea_regions-water_body/Baltic_Sea/Water_body_dissolved_oxygen_concentration.4Danl.nc\n",
      "\u001b[36m\u001b[1m[ \u001b[22m\u001b[39m\u001b[36m\u001b[1mInfo: \u001b[22m\u001b[39mMain variable: Water body dissolved oxygen concentration, dissolved oxygen concentration\n",
      "\u001b[36m\u001b[1m[ \u001b[22m\u001b[39m\u001b[36m\u001b[1mInfo: \u001b[22m\u001b[39mSDN:P35::EPC00002\n",
      "\u001b[36m\u001b[1m[ \u001b[22m\u001b[39m\u001b[36m\u001b[1mInfo: \u001b[22m\u001b[39mThe new label is Oxygen\n",
      "\u001b[36m\u001b[1m[ \u001b[22m\u001b[39m\u001b[36m\u001b[1mInfo: \u001b[22m\u001b[39m\n",
      "\u001b[36m\u001b[1m[ \u001b[22m\u001b[39m\u001b[36m\u001b[1mInfo: \u001b[22m\u001b[39mWater body dissolved oxygen concentration → Oxygen \n",
      "\u001b[36m\u001b[1m[ \u001b[22m\u001b[39m\u001b[36m\u001b[1mInfo: \u001b[22m\u001b[39mWater body dissolved oxygen concentration masked using relative error threshold 0.3 → Oxygen masked using relative error threshold 0.3\n",
      "\u001b[36m\u001b[1m[ \u001b[22m\u001b[39m\u001b[36m\u001b[1mInfo: \u001b[22m\u001b[39mWater body dissolved oxygen concentration masked using relative error threshold 0.5 → Oxygen masked using relative error threshold 0.5\n",
      "\u001b[36m\u001b[1m[ \u001b[22m\u001b[39m\u001b[36m\u001b[1mInfo: \u001b[22m\u001b[39mRelative error of Water body dissolved oxygen concentration → Oxygen relative error\n",
      "\u001b[36m\u001b[1m[ \u001b[22m\u001b[39m\u001b[36m\u001b[1mInfo: \u001b[22m\u001b[39mDeepest values of Water body dissolved oxygen concentration → Oxygen deepest values\n",
      "\u001b[36m\u001b[1m[ \u001b[22m\u001b[39m\u001b[36m\u001b[1mInfo: \u001b[22m\u001b[39mDeepest values of Water body dissolved oxygen concentration masked using relative error threshold 0.3 → Oxygen deepest values masked using relative error threshold 0.3\n",
      "\u001b[36m\u001b[1m[ \u001b[22m\u001b[39m\u001b[36m\u001b[1mInfo: \u001b[22m\u001b[39mDeepest values of Water body dissolved oxygen concentration masked using relative error threshold 0.5 → Oxygen deepest values masked using relative error threshold 0.5\n",
      "\u001b[36m\u001b[1m[ \u001b[22m\u001b[39m\u001b[36m\u001b[1mInfo: \u001b[22m\u001b[39mDeepest depth for Water body dissolved oxygen concentration → Oxygen deepest depth\n",
      "\u001b[36m\u001b[1m[ \u001b[22m\u001b[39m\u001b[36m\u001b[1mInfo: \u001b[22m\u001b[39mWorking on file /home/ctroupin/data/EMODnet-Chemistry/Eutrophication2024/Results/By_sea_regions-water_body/Baltic_Sea/Water_body_phosphate.4Danl.nc\n",
      "\u001b[36m\u001b[1m[ \u001b[22m\u001b[39m\u001b[36m\u001b[1mInfo: \u001b[22m\u001b[39mMain variable: Water body phosphate, phosphate\n",
      "\u001b[36m\u001b[1m[ \u001b[22m\u001b[39m\u001b[36m\u001b[1mInfo: \u001b[22m\u001b[39mSDN:P35::EPC00007\n",
      "\u001b[36m\u001b[1m[ \u001b[22m\u001b[39m\u001b[36m\u001b[1mInfo: \u001b[22m\u001b[39mThe new label is Phosphate\n",
      "\u001b[36m\u001b[1m[ \u001b[22m\u001b[39m\u001b[36m\u001b[1mInfo: \u001b[22m\u001b[39m\n",
      "\u001b[36m\u001b[1m[ \u001b[22m\u001b[39m\u001b[36m\u001b[1mInfo: \u001b[22m\u001b[39mWater body phosphate → Phosphate \n",
      "\u001b[36m\u001b[1m[ \u001b[22m\u001b[39m\u001b[36m\u001b[1mInfo: \u001b[22m\u001b[39mWater body phosphate masked using relative error threshold 0.3 → Phosphate masked using relative error threshold 0.3\n",
      "\u001b[36m\u001b[1m[ \u001b[22m\u001b[39m\u001b[36m\u001b[1mInfo: \u001b[22m\u001b[39mWater body phosphate masked using relative error threshold 0.5 → Phosphate masked using relative error threshold 0.5\n",
      "\u001b[36m\u001b[1m[ \u001b[22m\u001b[39m\u001b[36m\u001b[1mInfo: \u001b[22m\u001b[39mRelative error of Water body phosphate → Phosphate relative error\n",
      "\u001b[36m\u001b[1m[ \u001b[22m\u001b[39m\u001b[36m\u001b[1mInfo: \u001b[22m\u001b[39mDeepest values of Water body phosphate → Phosphate deepest values\n",
      "\u001b[36m\u001b[1m[ \u001b[22m\u001b[39m\u001b[36m\u001b[1mInfo: \u001b[22m\u001b[39mDeepest values of Water body phosphate masked using relative error threshold 0.3 → Phosphate deepest values masked using relative error threshold 0.3\n",
      "\u001b[36m\u001b[1m[ \u001b[22m\u001b[39m\u001b[36m\u001b[1mInfo: \u001b[22m\u001b[39mDeepest values of Water body phosphate masked using relative error threshold 0.5 → Phosphate deepest values masked using relative error threshold 0.5\n",
      "\u001b[36m\u001b[1m[ \u001b[22m\u001b[39m\u001b[36m\u001b[1mInfo: \u001b[22m\u001b[39mDeepest depth for Water body phosphate → Phosphate deepest depth\n",
      "\u001b[36m\u001b[1m[ \u001b[22m\u001b[39m\u001b[36m\u001b[1mInfo: \u001b[22m\u001b[39mWorking on file /home/ctroupin/data/EMODnet-Chemistry/Eutrophication2024/Results/By_sea_regions-water_body/Baltic_Sea/Water_body_silicate.4Danl.nc\n",
      "\u001b[36m\u001b[1m[ \u001b[22m\u001b[39m\u001b[36m\u001b[1mInfo: \u001b[22m\u001b[39mMain variable: Water body silicate, silicate\n",
      "\u001b[36m\u001b[1m[ \u001b[22m\u001b[39m\u001b[36m\u001b[1mInfo: \u001b[22m\u001b[39mSDN:P35::EPC00008\n",
      "\u001b[36m\u001b[1m[ \u001b[22m\u001b[39m\u001b[36m\u001b[1mInfo: \u001b[22m\u001b[39mThe new label is Silicate\n",
      "\u001b[36m\u001b[1m[ \u001b[22m\u001b[39m\u001b[36m\u001b[1mInfo: \u001b[22m\u001b[39m\n",
      "\u001b[36m\u001b[1m[ \u001b[22m\u001b[39m\u001b[36m\u001b[1mInfo: \u001b[22m\u001b[39mWater body silicate → Silicate \n",
      "\u001b[36m\u001b[1m[ \u001b[22m\u001b[39m\u001b[36m\u001b[1mInfo: \u001b[22m\u001b[39mWater body silicate masked using relative error threshold 0.3 → Silicate masked using relative error threshold 0.3\n",
      "\u001b[36m\u001b[1m[ \u001b[22m\u001b[39m\u001b[36m\u001b[1mInfo: \u001b[22m\u001b[39mWater body silicate masked using relative error threshold 0.5 → Silicate masked using relative error threshold 0.5\n",
      "\u001b[36m\u001b[1m[ \u001b[22m\u001b[39m\u001b[36m\u001b[1mInfo: \u001b[22m\u001b[39mRelative error of Water body silicate → Silicate relative error\n",
      "\u001b[36m\u001b[1m[ \u001b[22m\u001b[39m\u001b[36m\u001b[1mInfo: \u001b[22m\u001b[39mDeepest values of Water body silicate → Silicate deepest values\n",
      "\u001b[36m\u001b[1m[ \u001b[22m\u001b[39m\u001b[36m\u001b[1mInfo: \u001b[22m\u001b[39mDeepest values of Water body silicate masked using relative error threshold 0.3 → Silicate deepest values masked using relative error threshold 0.3\n",
      "\u001b[36m\u001b[1m[ \u001b[22m\u001b[39m\u001b[36m\u001b[1mInfo: \u001b[22m\u001b[39mDeepest values of Water body silicate masked using relative error threshold 0.5 → Silicate deepest values masked using relative error threshold 0.5\n",
      "\u001b[36m\u001b[1m[ \u001b[22m\u001b[39m\u001b[36m\u001b[1mInfo: \u001b[22m\u001b[39mDeepest depth for Water body silicate → Silicate deepest depth\n"
     ]
    }
   ],
   "source": [
    "for datafile in datafilelist\n",
    "    @info(\"Working on file $(datafile)\")\n",
    "    NCDataset(datafile, \"a\") do ds\n",
    "        varlist = keys(ds)\n",
    "\n",
    "        # Identify the main variable name\n",
    "        # mainvar_ = first(varlist)\n",
    "        mainvar_ = first(split(last(keys(ds)), \"_\"))\n",
    "        mainvarshort = replace(mainvar_, \"Water_body_\" => \"\", \"Water body \" => \"\", \"_\" => \" \")\n",
    "        @info(\"Main variable: $(mainvar_), $(mainvarshort)\")\n",
    "\n",
    "        # Get the parameter URN\n",
    "        parameter_keyword_urn = ds.attrib[\"parameter_keyword_urn\"]\n",
    "        @info(parameter_keyword_urn)\n",
    "\n",
    "        # Generate alternative label using Vocab\n",
    "        newlabel = Vocab.altLabel(parameter_keyword_urn)\n",
    "        @info(\"The new label is $(newlabel)\")\n",
    "        @info(\"\")\n",
    "\n",
    "        # Loop on variables\n",
    "        for varname in varlist\n",
    "            @debug(varname)\n",
    "            \n",
    "            # Work only on variables related to parameter (not coordinates etc)\n",
    "            if startswith(varname, mainvar_)\n",
    "\n",
    "                varlongname = ds[varname].attrib[\"long_name\"]\n",
    "                @debug(\"Long name: $(varlongname)\")\n",
    "\n",
    "                # replace \"for\" with \"of\"\n",
    "                newvarlongname = replace(varlongname, \"for \" => \"of \", \"_\" => \" \")\n",
    "                newvarlongname = replace(newvarlongname, \"Water body \" => \"\")\n",
    "                @debug(newvarlongname)\n",
    "\n",
    "                namesplit = split(newvarlongname, mainvarshort)\n",
    "                if namesplit[end] == \"\"\n",
    "                    newvarlongname = \"$(newlabel) $(replace(first(namesplit), \" of \" => \"\"))\"\n",
    "                else\n",
    "                    newvarlongname = \"$(newlabel) $(replace(first(namesplit), \" of \" => \"\")) $(last(namesplit))\"\n",
    "                end\n",
    "                newvarlongname = replace(newvarlongname, \"   \" => \" \", \"  \" => \" \", \"(DIN) \" => \"\")\n",
    "                newvarlongname = uppercasefirst(lowercase(newvarlongname))\n",
    "\n",
    "                @info(\"$(varlongname) → $(newvarlongname)\")\n",
    "\n",
    "                # Perform change\n",
    "                ds[varname].attrib[\"long_name\"] = rstrip(newvarlongname)\n",
    "            end\n",
    "        end\n",
    "    end\n",
    "end"
   ]
  },
  {
   "cell_type": "code",
   "execution_count": null,
   "id": "6fb43962-7785-4871-92f9-398a910ac7d5",
   "metadata": {},
   "outputs": [],
   "source": []
  }
 ],
 "metadata": {
  "kernelspec": {
   "display_name": "Julia 1.11.7",
   "language": "julia",
   "name": "julia-1.11"
  },
  "language_info": {
   "file_extension": ".jl",
   "mimetype": "application/julia",
   "name": "julia",
   "version": "1.11.7"
  }
 },
 "nbformat": 4,
 "nbformat_minor": 5
}
