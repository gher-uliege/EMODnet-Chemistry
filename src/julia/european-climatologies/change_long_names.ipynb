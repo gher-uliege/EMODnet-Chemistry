{
 "cells": [
  {
   "cell_type": "code",
   "execution_count": 2,
   "id": "7922d235-91ca-4996-bd11-2ca7ebfcb77b",
   "metadata": {},
   "outputs": [],
   "source": [
    "using NCDatasets\n",
    "using Glob"
   ]
  },
  {
   "cell_type": "code",
   "execution_count": 5,
   "id": "2dfec322-bff1-45e4-93a5-173b69e67ff4",
   "metadata": {},
   "outputs": [
    {
     "data": {
      "text/plain": [
       "6-element Vector{String}:\n",
       " \"/home/ctroupin/data/EMODnet-Che\"\u001b[93m\u001b[1m ⋯ 60 bytes ⋯ \u001b[22m\u001b[39m\"ter_body/Water_body_ammonium.nc\"\n",
       " \"/home/ctroupin/data/EMODnet-Che\"\u001b[93m\u001b[1m ⋯ 65 bytes ⋯ \u001b[22m\u001b[39m\"ody/Water_body_chlorophyll-a.nc\"\n",
       " \"/home/ctroupin/data/EMODnet-Che\"\u001b[93m\u001b[1m ⋯ 80 bytes ⋯ \u001b[22m\u001b[39m\"dissolved_inorganic_nitrogen.nc\"\n",
       " \"/home/ctroupin/data/EMODnet-Che\"\u001b[93m\u001b[1m ⋯ 82 bytes ⋯ \u001b[22m\u001b[39m\"ssolved_oxygen_concentration.nc\"\n",
       " \"/home/ctroupin/data/EMODnet-Che\"\u001b[93m\u001b[1m ⋯ 61 bytes ⋯ \u001b[22m\u001b[39m\"er_body/Water_body_phosphate.nc\"\n",
       " \"/home/ctroupin/data/EMODnet-Che\"\u001b[93m\u001b[1m ⋯ 60 bytes ⋯ \u001b[22m\u001b[39m\"ter_body/Water_body_silicate.nc\""
      ]
     },
     "execution_count": 5,
     "metadata": {},
     "output_type": "execute_result"
    }
   ],
   "source": [
    "datadir = \"/home/ctroupin/data/EMODnet-Chemistry/Eutrophication2024/Results/ogs04/All_European_Seas-water_body/\"\n",
    "datafilelist = glob(\"*nc\", datadir)"
   ]
  },
  {
   "cell_type": "code",
   "execution_count": 6,
   "id": "8e0aac54-8137-409b-9c8a-eeb1772de5e0",
   "metadata": {},
   "outputs": [
    {
     "data": {
      "text/plain": [
       "\"/home/ctroupin/data/EMODnet-Chemistry/Eutrophication2024/Results/ogs04/All_European_Seas-water_body/Water_body_ammonium.nc\""
      ]
     },
     "execution_count": 6,
     "metadata": {},
     "output_type": "execute_result"
    }
   ],
   "source": [
    "datafile = first(datafilelist)"
   ]
  },
  {
   "cell_type": "code",
   "execution_count": 119,
   "id": "32fc38f7-e3e2-406e-bcb2-a14a829d93d1",
   "metadata": {},
   "outputs": [
    {
     "name": "stderr",
     "output_type": "stream",
     "text": [
      "\u001b[36m\u001b[1m[ \u001b[22m\u001b[39m\u001b[36m\u001b[1mInfo: \u001b[22m\u001b[39mWorking on file /home/ctroupin/data/EMODnet-Chemistry/Eutrophication2024/Results/ogs04/All_European_Seas-water_body/Water_body_ammonium.nc\n",
      "\u001b[36m\u001b[1m┌ \u001b[22m\u001b[39m\u001b[36m\u001b[1mInfo: \u001b[22m\u001b[39mWater_body_ammonium\n",
      "\u001b[36m\u001b[1m└ \u001b[22m\u001b[39m  mainvarshort = \"ammonium\"\n",
      "\u001b[36m\u001b[1m[ \u001b[22m\u001b[39m\u001b[36m\u001b[1mInfo: \u001b[22m\u001b[39mWater body ammonium → Ammonium \n",
      "\u001b[36m\u001b[1m[ \u001b[22m\u001b[39m\u001b[36m\u001b[1mInfo: \u001b[22m\u001b[39mWater body ammonium masked using relative error threshold 0.3 → Ammonium masked using relative error threshold 0.3\n",
      "\u001b[36m\u001b[1m[ \u001b[22m\u001b[39m\u001b[36m\u001b[1mInfo: \u001b[22m\u001b[39mWater body ammonium masked using relative error threshold 0.5 → Ammonium masked using relative error threshold 0.5\n",
      "\u001b[36m\u001b[1m[ \u001b[22m\u001b[39m\u001b[36m\u001b[1mInfo: \u001b[22m\u001b[39mRelative error of Water body ammonium → Ammonium relative error\n",
      "\u001b[36m\u001b[1m[ \u001b[22m\u001b[39m\u001b[36m\u001b[1mInfo: \u001b[22m\u001b[39mDeepest values of Water body ammonium → Ammonium deepest values\n",
      "\u001b[36m\u001b[1m[ \u001b[22m\u001b[39m\u001b[36m\u001b[1mInfo: \u001b[22m\u001b[39mDeepest values of Water body ammonium masked using relative error threshold 0.3 → Ammonium deepest values masked using relative error threshold 0.3\n",
      "\u001b[36m\u001b[1m[ \u001b[22m\u001b[39m\u001b[36m\u001b[1mInfo: \u001b[22m\u001b[39mDeepest values of Water body ammonium masked using relative error threshold 0.5 → Ammonium deepest values masked using relative error threshold 0.5\n",
      "\u001b[36m\u001b[1m[ \u001b[22m\u001b[39m\u001b[36m\u001b[1mInfo: \u001b[22m\u001b[39mDeepest depth for Water_body_ammonium → Ammonium deepest depth\n",
      "\u001b[36m\u001b[1m[ \u001b[22m\u001b[39m\u001b[36m\u001b[1mInfo: \u001b[22m\u001b[39mWorking on file /home/ctroupin/data/EMODnet-Chemistry/Eutrophication2024/Results/ogs04/All_European_Seas-water_body/Water_body_chlorophyll-a.nc\n",
      "\u001b[36m\u001b[1m┌ \u001b[22m\u001b[39m\u001b[36m\u001b[1mInfo: \u001b[22m\u001b[39mWater_body_chlorophyll-a\n",
      "\u001b[36m\u001b[1m└ \u001b[22m\u001b[39m  mainvarshort = \"chlorophyll-a\"\n",
      "\u001b[36m\u001b[1m[ \u001b[22m\u001b[39m\u001b[36m\u001b[1mInfo: \u001b[22m\u001b[39mWater body chlorophyll-a → Chlorophyll-a \n",
      "\u001b[36m\u001b[1m[ \u001b[22m\u001b[39m\u001b[36m\u001b[1mInfo: \u001b[22m\u001b[39mWater body chlorophyll-a masked using relative error threshold 0.3 → Chlorophyll-a masked using relative error threshold 0.3\n",
      "\u001b[36m\u001b[1m[ \u001b[22m\u001b[39m\u001b[36m\u001b[1mInfo: \u001b[22m\u001b[39mWater body chlorophyll-a masked using relative error threshold 0.5 → Chlorophyll-a masked using relative error threshold 0.5\n",
      "\u001b[36m\u001b[1m[ \u001b[22m\u001b[39m\u001b[36m\u001b[1mInfo: \u001b[22m\u001b[39mRelative error of Water body chlorophyll-a → Chlorophyll-a relative error\n",
      "\u001b[36m\u001b[1m[ \u001b[22m\u001b[39m\u001b[36m\u001b[1mInfo: \u001b[22m\u001b[39mDeepest values of Water body chlorophyll-a → Chlorophyll-a deepest values\n",
      "\u001b[36m\u001b[1m[ \u001b[22m\u001b[39m\u001b[36m\u001b[1mInfo: \u001b[22m\u001b[39mDeepest values of Water body chlorophyll-a masked using relative error threshold 0.3 → Chlorophyll-a deepest values masked using relative error threshold 0.3\n",
      "\u001b[36m\u001b[1m[ \u001b[22m\u001b[39m\u001b[36m\u001b[1mInfo: \u001b[22m\u001b[39mDeepest values of Water body chlorophyll-a masked using relative error threshold 0.5 → Chlorophyll-a deepest values masked using relative error threshold 0.5\n",
      "\u001b[36m\u001b[1m[ \u001b[22m\u001b[39m\u001b[36m\u001b[1mInfo: \u001b[22m\u001b[39mDeepest depth for Water_body_chlorophyll-a → Chlorophyll-a deepest depth\n",
      "\u001b[36m\u001b[1m[ \u001b[22m\u001b[39m\u001b[36m\u001b[1mInfo: \u001b[22m\u001b[39mWorking on file /home/ctroupin/data/EMODnet-Chemistry/Eutrophication2024/Results/ogs04/All_European_Seas-water_body/Water_body_dissolved_inorganic_nitrogen.nc\n",
      "\u001b[36m\u001b[1m┌ \u001b[22m\u001b[39m\u001b[36m\u001b[1mInfo: \u001b[22m\u001b[39mWater_body_dissolved_inorganic_nitrogen\n",
      "\u001b[36m\u001b[1m└ \u001b[22m\u001b[39m  mainvarshort = \"dissolved inorganic nitrogen\"\n",
      "\u001b[36m\u001b[1m[ \u001b[22m\u001b[39m\u001b[36m\u001b[1mInfo: \u001b[22m\u001b[39mWater body dissolved inorganic nitrogen (DIN) → Dissolved inorganic nitrogen (din)\n",
      "\u001b[36m\u001b[1m[ \u001b[22m\u001b[39m\u001b[36m\u001b[1mInfo: \u001b[22m\u001b[39mWater body dissolved inorganic nitrogen (DIN) masked using relative error threshold 0.3 → Dissolved inorganic nitrogen masked using relative error threshold 0.3\n",
      "\u001b[36m\u001b[1m[ \u001b[22m\u001b[39m\u001b[36m\u001b[1mInfo: \u001b[22m\u001b[39mWater body dissolved inorganic nitrogen (DIN) masked using relative error threshold 0.5 → Dissolved inorganic nitrogen masked using relative error threshold 0.5\n",
      "\u001b[36m\u001b[1m[ \u001b[22m\u001b[39m\u001b[36m\u001b[1mInfo: \u001b[22m\u001b[39mRelative error of Water body dissolved inorganic nitrogen (DIN) → Dissolved inorganic nitrogen relative error (din)\n",
      "\u001b[36m\u001b[1m[ \u001b[22m\u001b[39m\u001b[36m\u001b[1mInfo: \u001b[22m\u001b[39mDeepest values of Water body dissolved inorganic nitrogen (DIN) → Dissolved inorganic nitrogen deepest values (din)\n",
      "\u001b[36m\u001b[1m[ \u001b[22m\u001b[39m\u001b[36m\u001b[1mInfo: \u001b[22m\u001b[39mDeepest values of Water body dissolved inorganic nitrogen (DIN) masked using relative error threshold 0.3 → Dissolved inorganic nitrogen deepest values masked using relative error threshold 0.3\n",
      "\u001b[36m\u001b[1m[ \u001b[22m\u001b[39m\u001b[36m\u001b[1mInfo: \u001b[22m\u001b[39mDeepest values of Water body dissolved inorganic nitrogen (DIN) masked using relative error threshold 0.5 → Dissolved inorganic nitrogen deepest values masked using relative error threshold 0.5\n",
      "\u001b[36m\u001b[1m[ \u001b[22m\u001b[39m\u001b[36m\u001b[1mInfo: \u001b[22m\u001b[39mDeepest depth for Water_body_dissolved_inorganic_nitrogen → Dissolved inorganic nitrogen deepest depth\n",
      "\u001b[36m\u001b[1m[ \u001b[22m\u001b[39m\u001b[36m\u001b[1mInfo: \u001b[22m\u001b[39mWorking on file /home/ctroupin/data/EMODnet-Chemistry/Eutrophication2024/Results/ogs04/All_European_Seas-water_body/Water_body_dissolved_oxygen_concentration.nc\n",
      "\u001b[36m\u001b[1m┌ \u001b[22m\u001b[39m\u001b[36m\u001b[1mInfo: \u001b[22m\u001b[39mWater_body_dissolved_oxygen_concentration\n",
      "\u001b[36m\u001b[1m└ \u001b[22m\u001b[39m  mainvarshort = \"dissolved oxygen concentration\"\n",
      "\u001b[36m\u001b[1m[ \u001b[22m\u001b[39m\u001b[36m\u001b[1mInfo: \u001b[22m\u001b[39mWater body dissolved oxygen concentration → Dissolved oxygen concentration \n",
      "\u001b[36m\u001b[1m[ \u001b[22m\u001b[39m\u001b[36m\u001b[1mInfo: \u001b[22m\u001b[39mWater body dissolved oxygen concentration masked using relative error threshold 0.3 → Dissolved oxygen concentration masked using relative error threshold 0.3\n",
      "\u001b[36m\u001b[1m[ \u001b[22m\u001b[39m\u001b[36m\u001b[1mInfo: \u001b[22m\u001b[39mWater body dissolved oxygen concentration masked using relative error threshold 0.5 → Dissolved oxygen concentration masked using relative error threshold 0.5\n",
      "\u001b[36m\u001b[1m[ \u001b[22m\u001b[39m\u001b[36m\u001b[1mInfo: \u001b[22m\u001b[39mRelative error of Water body dissolved oxygen concentration → Dissolved oxygen concentration relative error\n",
      "\u001b[36m\u001b[1m[ \u001b[22m\u001b[39m\u001b[36m\u001b[1mInfo: \u001b[22m\u001b[39mDeepest values of Water body dissolved oxygen concentration → Dissolved oxygen concentration deepest values\n",
      "\u001b[36m\u001b[1m[ \u001b[22m\u001b[39m\u001b[36m\u001b[1mInfo: \u001b[22m\u001b[39mDeepest values of Water body dissolved oxygen concentration masked using relative error threshold 0.3 → Dissolved oxygen concentration deepest values masked using relative error threshold 0.3\n",
      "\u001b[36m\u001b[1m[ \u001b[22m\u001b[39m\u001b[36m\u001b[1mInfo: \u001b[22m\u001b[39mDeepest values of Water body dissolved oxygen concentration masked using relative error threshold 0.5 → Dissolved oxygen concentration deepest values masked using relative error threshold 0.5\n",
      "\u001b[36m\u001b[1m[ \u001b[22m\u001b[39m\u001b[36m\u001b[1mInfo: \u001b[22m\u001b[39mDeepest depth for Water_body_dissolved_oxygen_concentration → Dissolved oxygen concentration deepest depth\n",
      "\u001b[36m\u001b[1m[ \u001b[22m\u001b[39m\u001b[36m\u001b[1mInfo: \u001b[22m\u001b[39mWorking on file /home/ctroupin/data/EMODnet-Chemistry/Eutrophication2024/Results/ogs04/All_European_Seas-water_body/Water_body_phosphate.nc\n",
      "\u001b[36m\u001b[1m┌ \u001b[22m\u001b[39m\u001b[36m\u001b[1mInfo: \u001b[22m\u001b[39mWater_body_phosphate\n",
      "\u001b[36m\u001b[1m└ \u001b[22m\u001b[39m  mainvarshort = \"phosphate\"\n",
      "\u001b[36m\u001b[1m[ \u001b[22m\u001b[39m\u001b[36m\u001b[1mInfo: \u001b[22m\u001b[39mWater body phosphate → Phosphate \n",
      "\u001b[36m\u001b[1m[ \u001b[22m\u001b[39m\u001b[36m\u001b[1mInfo: \u001b[22m\u001b[39mWater body phosphate masked using relative error threshold 0.3 → Phosphate masked using relative error threshold 0.3\n",
      "\u001b[36m\u001b[1m[ \u001b[22m\u001b[39m\u001b[36m\u001b[1mInfo: \u001b[22m\u001b[39mWater body phosphate masked using relative error threshold 0.5 → Phosphate masked using relative error threshold 0.5\n",
      "\u001b[36m\u001b[1m[ \u001b[22m\u001b[39m\u001b[36m\u001b[1mInfo: \u001b[22m\u001b[39mRelative error of Water body phosphate → Phosphate relative error\n",
      "\u001b[36m\u001b[1m[ \u001b[22m\u001b[39m\u001b[36m\u001b[1mInfo: \u001b[22m\u001b[39mDeepest values of Water body phosphate → Phosphate deepest values\n",
      "\u001b[36m\u001b[1m[ \u001b[22m\u001b[39m\u001b[36m\u001b[1mInfo: \u001b[22m\u001b[39mDeepest values of Water body phosphate masked using relative error threshold 0.3 → Phosphate deepest values masked using relative error threshold 0.3\n",
      "\u001b[36m\u001b[1m[ \u001b[22m\u001b[39m\u001b[36m\u001b[1mInfo: \u001b[22m\u001b[39mDeepest values of Water body phosphate masked using relative error threshold 0.5 → Phosphate deepest values masked using relative error threshold 0.5\n",
      "\u001b[36m\u001b[1m[ \u001b[22m\u001b[39m\u001b[36m\u001b[1mInfo: \u001b[22m\u001b[39mDeepest depth for Water_body_phosphate → Phosphate deepest depth\n",
      "\u001b[36m\u001b[1m[ \u001b[22m\u001b[39m\u001b[36m\u001b[1mInfo: \u001b[22m\u001b[39mWorking on file /home/ctroupin/data/EMODnet-Chemistry/Eutrophication2024/Results/ogs04/All_European_Seas-water_body/Water_body_silicate.nc\n",
      "\u001b[36m\u001b[1m┌ \u001b[22m\u001b[39m\u001b[36m\u001b[1mInfo: \u001b[22m\u001b[39mWater_body_silicate\n",
      "\u001b[36m\u001b[1m└ \u001b[22m\u001b[39m  mainvarshort = \"silicate\"\n",
      "\u001b[36m\u001b[1m[ \u001b[22m\u001b[39m\u001b[36m\u001b[1mInfo: \u001b[22m\u001b[39mWater body silicate → Silicate \n",
      "\u001b[36m\u001b[1m[ \u001b[22m\u001b[39m\u001b[36m\u001b[1mInfo: \u001b[22m\u001b[39mWater body silicate masked using relative error threshold 0.3 → Silicate masked using relative error threshold 0.3\n",
      "\u001b[36m\u001b[1m[ \u001b[22m\u001b[39m\u001b[36m\u001b[1mInfo: \u001b[22m\u001b[39mWater body silicate masked using relative error threshold 0.5 → Silicate masked using relative error threshold 0.5\n",
      "\u001b[36m\u001b[1m[ \u001b[22m\u001b[39m\u001b[36m\u001b[1mInfo: \u001b[22m\u001b[39mRelative error of Water body silicate → Silicate relative error\n",
      "\u001b[36m\u001b[1m[ \u001b[22m\u001b[39m\u001b[36m\u001b[1mInfo: \u001b[22m\u001b[39mDeepest values of Water body silicate → Silicate deepest values\n",
      "\u001b[36m\u001b[1m[ \u001b[22m\u001b[39m\u001b[36m\u001b[1mInfo: \u001b[22m\u001b[39mDeepest values of Water body silicate masked using relative error threshold 0.3 → Silicate deepest values masked using relative error threshold 0.3\n",
      "\u001b[36m\u001b[1m[ \u001b[22m\u001b[39m\u001b[36m\u001b[1mInfo: \u001b[22m\u001b[39mDeepest values of Water body silicate masked using relative error threshold 0.5 → Silicate deepest values masked using relative error threshold 0.5\n",
      "\u001b[36m\u001b[1m[ \u001b[22m\u001b[39m\u001b[36m\u001b[1mInfo: \u001b[22m\u001b[39mDeepest depth for Water_body_silicate → Silicate deepest depth\n"
     ]
    }
   ],
   "source": [
    "for datafile in datafilelist\n",
    "    @info(\"Working on file $(datafile)\")\n",
    "    NCDataset(datafile, \"a\") do ds\n",
    "        varlist = keys(ds)\n",
    "        mainvar_ = first(varlist)\n",
    "        mainvarshort = replace(mainvar_, \"Water_body_\" => \"\", \"_\" => \" \")\n",
    "        @info(mainvar_, mainvarshort)\n",
    "\n",
    "        # Loop on variables\n",
    "        for varname in varlist\n",
    "            @debug(varname)\n",
    "            \n",
    "            # Work only on variables related to parameter (not coordinates etc)\n",
    "            if startswith(varname, mainvar_)\n",
    "                mainvar = replace(first(varlist), \"_\" => \" \")\n",
    "                varlongname = ds[varname].attrib[\"long_name\"]\n",
    "                @debug(\"Long name: $(varlongname)\")\n",
    "\n",
    "                # replace \"for\" with \"of\"\n",
    "                newvarlongname = replace(varlongname, \"for \" => \"of \", \"_\" => \" \")\n",
    "                newvarlongname = replace(newvarlongname, \"Water body \" => \"\")\n",
    "                @debug(newvarlongname)\n",
    "\n",
    "                namesplit = split(newvarlongname, mainvarshort)\n",
    "                if namesplit[end] == \"\"\n",
    "                    newvarlongname = \"$(mainvarshort) $(replace(first(namesplit), \" of \" => \"\"))\"\n",
    "                else\n",
    "                    newvarlongname = \"$(mainvarshort) $(replace(first(namesplit), \" of \" => \"\")) $(last(namesplit))\"\n",
    "                end\n",
    "                newvarlongname = replace(newvarlongname, \"   \" => \" \", \"  \" => \" \", \"(DIN) \" => \"\")\n",
    "                newvarlongname = uppercasefirst(lowercase(newvarlongname))\n",
    "\n",
    "                @info(\"$(varlongname) → $(newvarlongname)\")\n",
    "\n",
    "                # Perform change\n",
    "                ds[varname].attrib[\"long_name\"] = rstrip(newvarlongname)\n",
    "            end\n",
    "        end\n",
    "    end\n",
    "end"
   ]
  },
  {
   "cell_type": "code",
   "execution_count": null,
   "id": "5b805fe9-0461-4b8f-98f8-aa21c9f6a2da",
   "metadata": {},
   "outputs": [],
   "source": []
  }
 ],
 "metadata": {
  "kernelspec": {
   "display_name": "Julia 1.11.5",
   "language": "julia",
   "name": "julia-1.11"
  },
  "language_info": {
   "file_extension": ".jl",
   "mimetype": "application/julia",
   "name": "julia",
   "version": "1.11.5"
  }
 },
 "nbformat": 4,
 "nbformat_minor": 5
}
